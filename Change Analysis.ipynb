{
 "cells": [
  {
   "cell_type": "code",
   "execution_count": 1,
   "metadata": {},
   "outputs": [],
   "source": [
    "from  osgeo import ogr, osr\n",
    "import psycopg2\n",
    "import shapely\n",
    "import shapely.wkt\n",
    "import geopandas as gpd\n",
    "%matplotlib inline"
   ]
  },
  {
   "cell_type": "code",
   "execution_count": 2,
   "metadata": {},
   "outputs": [],
   "source": [
    "# connection = psycopg2.connect(database=\"twitter_change\",user=\"postgres\", password=\"password\")\n",
    "# cursor = connection.cursor()\n",
    "\n",
    "# # cursor.execute(\"SELECT ST_ConvexHull(ST_Collect(d.the_geom))\")\n",
    "# cursor.execute('SELECT * FROM public.june1poly ORDER BY gid ASC LIMIT 100')\n",
    "# result = cursor.fetchall()\n",
    "# result\n",
    "\n",
    "# try:\n",
    "#     cursor.execute(\"ALTER TABLE public.june1poly ADD COLUMN centroid geometry(Point)\")\n",
    "# except psycopg2.ProgrammingError:\n",
    "#     connection.rollback\n",
    "# connection.commit()\n",
    "\n",
    "# cursor.execute(\"UPDATE public.june1poly SET centroid=ST_Centroid(geom)\")\n",
    "# connection.commit()\n",
    "\n",
    "# connection = psycopg2.connect(database=\"twitter_change\",user=\"postgres\", password=\"password\")\n",
    "# cursor = connection.cursor()\n",
    "# try:\n",
    "#     cursor.execute(\"ALTER TABLE public.june2poly ADD COLUMN centroid geometry(Point)\")\n",
    "# except psycopg2.ProgrammingError:\n",
    "#     connection.rollback\n",
    "# connection.commit()\n",
    "# cursor.execute(\"UPDATE public.june2poly SET centroid=ST_Centroid(geom)\")\n",
    "# connection.commit()"
   ]
  },
  {
   "cell_type": "code",
   "execution_count": 3,
   "metadata": {},
   "outputs": [],
   "source": [
    "def change_shrink(poly1, poly2, factor=0.5):\n",
    "    newpoly = 'public.'+poly1[:-4]+poly2[:-4]+'shrink'\n",
    "    \n",
    "    connection = psycopg2.connect(database=\"twitter_change\",user=\"postgres\", password=\"password\")\n",
    "    cursor = connection.cursor()\n",
    "    cursor.execute('DROP TABLE IF EXISTS '+newpoly)\n",
    "    cursor.execute('CREATE TABLE '+newpoly+' (gid SERIAL PRIMARY KEY, avgscor numeric, numtwts integer, id integer, batchnm integer, geodata character varying(80) COLLATE pg_catalog.\"default\", geom geometry(Polygon), centroid geometry(Point), changval numeric)')\n",
    "\n",
    "    cursor.execute('INSERT INTO '+newpoly+' (avgscor, numtwts, geodata, id, batchnm, geom, centroid, changval)'+\n",
    "                ' (SELECT DISTINCT j2.avgscor, j2.numtwts, j2.geodata, j2.id, j2.batchnm, j2.geom, j2.centroid,'+\n",
    "                ' (ST_AREA(ST_INTERSECTION(j2.geom, j1.geom))/st_area(j2.geom))'+\n",
    "                ' FROM public.'+poly1+' j1, public.'+poly2+' j2'+\n",
    "                ' WHERE j1.id = j2.id AND ST_INTERSECTS(j1.geom, j2.geom) AND '+    \n",
    "                    '(ST_AREA(ST_INTERSECTION(j2.geom, j1.geom))/st_area(j2.geom)) < '+str(factor)+') ')\n",
    "    connection.commit()\n",
    "    "
   ]
  },
  {
   "cell_type": "code",
   "execution_count": 4,
   "metadata": {},
   "outputs": [],
   "source": [
    "def change_growth(poly1, poly2, factor=0.5):\n",
    "    newpoly = 'public.'+poly1[:-4]+poly2[:-4]+'growth'\n",
    "    \n",
    "    connection = psycopg2.connect(database=\"twitter_change\",user=\"postgres\", password=\"password\")\n",
    "    cursor = connection.cursor()\n",
    "    cursor.execute('DROP TABLE IF EXISTS '+newpoly)\n",
    "    cursor.execute('CREATE TABLE '+newpoly+' (gid SERIAL PRIMARY KEY, avgscor numeric, numtwts integer, id integer, batchnm integer, geodata character varying(80) COLLATE pg_catalog.\"default\", geom geometry(Polygon), centroid geometry(Point), changval numeric)')\n",
    "\n",
    "    cursor.execute('INSERT INTO '+newpoly+' (avgscor, numtwts, geodata, id, batchnm, geom, centroid, changval)'+\n",
    "                ' (SELECT DISTINCT j2.avgscor, j2.numtwts, j2.geodata, j2.id, j2.batchnm, j2.geom, j2.centroid,'+\n",
    "                ' (ST_AREA(ST_INTERSECTION(j2.geom, j1.geom))/st_area(j2.geom))'+\n",
    "                ' FROM public.'+poly1+' j1, public.'+poly2+' j2'+\n",
    "                ' WHERE j1.id = j2.id AND ST_INTERSECTS(j1.geom, j2.geom) AND '+    \n",
    "                    '(ST_AREA(ST_INTERSECTION(j2.geom, j1.geom))/st_area(j2.geom)) > '+str(factor)+') ')\n",
    "    connection.commit()"
   ]
  },
  {
   "cell_type": "code",
   "execution_count": 5,
   "metadata": {},
   "outputs": [],
   "source": [
    "def change_shift(poly1, poly2, distance=75000):\n",
    "    newpoly = 'public.'+poly1[:-4]+poly2[:-4]+'shift'\n",
    "    \n",
    "    connection = psycopg2.connect(database=\"twitter_change\",user=\"postgres\", password=\"password\")\n",
    "    cursor = connection.cursor()\n",
    "    cursor.execute('DROP TABLE IF EXISTS '+newpoly)\n",
    "    cursor.execute('CREATE TABLE '+newpoly+' (gid SERIAL PRIMARY KEY, avgscor numeric, numtwts integer, id integer, batchnm integer, geodata character varying(80) COLLATE pg_catalog.\"default\", geom geometry(Polygon), centroid geometry(Point), shiftdist numeric)')\n",
    "    \n",
    "    cursor.execute('INSERT INTO '+newpoly+' (avgscor, numtwts, geodata, id, batchnm, geom, centroid, shiftdist)'+\n",
    "                '(SELECT j1.avgscor, j1.numtwts, j1.geodata, j1.id, j1.batchnm, j1.geom, j1.centroid, d.distval'+\n",
    "                ' FROM public.'+poly1+' j1,'+\n",
    "                    ' (SELECT ST_Distance_Spheroid(j1.centroid, j2.centroid,' +\n",
    "                    ' \\'SPHEROID[\"WGS 84\",6378137,298.257223563]\\') as distval, j1.id  AS jid'+\n",
    "                    ' FROM public.'+poly1+' j1, public.'+poly2+' j2 '+\n",
    "                    ' WHERE j1.id = j2.id AND '+\n",
    "                    ' ST_Distance_Spheroid(j1.centroid, j2.centroid, \\'SPHEROID[\"WGS 84\",6378137,298.257223563]\\') > '+str(distance)+') as d'+\n",
    "               ' WHERE j1.id = d.jid)')\n",
    "    connection.commit()"
   ]
  },
  {
   "cell_type": "markdown",
   "metadata": {},
   "source": [
    "We create two generic queries to test what kind of results we are getting from the grow and shrink predicates.\n",
    "\n",
    "First, growth:"
   ]
  },
  {
   "cell_type": "code",
   "execution_count": 36,
   "metadata": {},
   "outputs": [],
   "source": [
    "connection = psycopg2.connect(database=\"twitter_change\",user=\"postgres\", password=\"password\")\n",
    "cursor = connection.cursor()\n",
    "cursor.execute('SELECT DISTINCT j2.* '+\n",
    "                'FROM public.june1poly j1, public.june2poly j2 '+\n",
    "                'WHERE ST_INTERSECTS(j1.geom, j2.geom) AND '+    \n",
    "                '(ST_AREA(ST_INTERSECTION(j2.geom, j1.geom))/st_area(j2.geom)) > .85')\n",
    "growth = cursor.fetchall()\n",
    "# growth"
   ]
  },
  {
   "cell_type": "markdown",
   "metadata": {},
   "source": [
    "Next up, shrink:"
   ]
  },
  {
   "cell_type": "code",
   "execution_count": 37,
   "metadata": {},
   "outputs": [],
   "source": [
    "connection = psycopg2.connect(database=\"twitter_change\",user=\"postgres\", password=\"password\")\n",
    "cursor = connection.cursor()\n",
    "cursor.execute('SELECT DISTINCT j2.* '+\n",
    "                'FROM public.june1poly j1, public.june2poly j2 '+\n",
    "                'WHERE ST_INTERSECTS(j1.geom, j2.geom) AND '+    \n",
    "                '(ST_AREA(ST_INTERSECTION(j2.geom, j1.geom))/st_area(j2.geom)) < .5')\n",
    "shrink = cursor.fetchall()\n",
    "# shrink"
   ]
  },
  {
   "cell_type": "markdown",
   "metadata": {},
   "source": [
    "Now we create the Growth detector table:"
   ]
  },
  {
   "cell_type": "code",
   "execution_count": 25,
   "metadata": {},
   "outputs": [],
   "source": [
    "connection = psycopg2.connect(database=\"twitter_change\",user=\"postgres\", password=\"password\")\n",
    "cursor = connection.cursor()\n",
    "cursor.execute('DROP TABLE IF EXISTS public.june12growth')\n",
    "cursor.execute('CREATE TABLE public.june12growth (gid SERIAL PRIMARY KEY, avgscor numeric, numtwts integer, id integer, batchnm integer, geodata character varying(80) COLLATE pg_catalog.\"default\", geom geometry(Polygon), centroid geometry(Point), growval numeric)')\n",
    "connection.commit()"
   ]
  },
  {
   "cell_type": "markdown",
   "metadata": {},
   "source": [
    "We populate the growth detector table and include the % change.\n",
    "\n",
    "The critical query here is:\n",
    ">ST_INTERSECTS(j1.geom, j2.geom) AND ST_AREA(ST_INTERSECTION(j2.geom, j1.geom))/st_area(j2.geom)) > .85"
   ]
  },
  {
   "cell_type": "code",
   "execution_count": 26,
   "metadata": {},
   "outputs": [],
   "source": [
    "connection = psycopg2.connect(database=\"twitter_change\",user=\"postgres\", password=\"password\")\n",
    "cursor = connection.cursor()\n",
    "cursor.execute('INSERT INTO public.june12growth (avgscor, numtwts, geodata, id, batchnm, geom, centroid, growval)'+\n",
    "                '(SELECT DISTINCT j2.avgscor, j2.numtwts, j2.geodata, j2.id, j2.batchnm, j2.geom, j2.centroid, '+\n",
    "                ' (ST_AREA(ST_INTERSECTION(j2.geom, j1.geom))/st_area(j2.geom))'+\n",
    "                ' FROM public.june1poly j1, public.june2poly j2'+\n",
    "                ' WHERE j1.id = j2.id AND ST_INTERSECTS(j1.geom, j2.geom) AND '+    \n",
    "                '(ST_AREA(ST_INTERSECTION(j2.geom, j1.geom))/st_area(j2.geom)) > .85)')\n",
    "connection.commit()"
   ]
  },
  {
   "cell_type": "markdown",
   "metadata": {},
   "source": [
    "Now we do the same but for shinking polygons:"
   ]
  },
  {
   "cell_type": "code",
   "execution_count": 21,
   "metadata": {},
   "outputs": [],
   "source": [
    "connection = psycopg2.connect(database=\"twitter_change\",user=\"postgres\", password=\"password\")\n",
    "cursor = connection.cursor()\n",
    "cursor.execute('DROP TABLE IF EXISTS public.june12shrink')\n",
    "cursor.execute('CREATE TABLE public.june12shrink (gid SERIAL PRIMARY KEY, avgscor numeric, numtwts integer, id integer, batchnm integer, geodata character varying(80) COLLATE pg_catalog.\"default\", geom geometry(Polygon), centroid geometry(Point), growval numeric)')\n",
    "connection.commit()"
   ]
  },
  {
   "cell_type": "markdown",
   "metadata": {},
   "source": [
    "We insert those polygons with an overlap area of less than 25%. This can be modified based on need."
   ]
  },
  {
   "cell_type": "code",
   "execution_count": 22,
   "metadata": {},
   "outputs": [],
   "source": [
    "connection = psycopg2.connect(database=\"twitter_change\",user=\"postgres\", password=\"password\")\n",
    "cursor = connection.cursor()\n",
    "cursor.execute('INSERT INTO public.june12shrink (avgscor, numtwts, geodata, id, batchnm, geom, centroid, growval)'+\n",
    "                ' (SELECT DISTINCT j2.avgscor, j2.numtwts, j2.geodata, j2.id, j2.batchnm, j2.geom, j2.centroid,'+\n",
    "                ' (ST_AREA(ST_INTERSECTION(j2.geom, j1.geom))/st_area(j2.geom))'+\n",
    "                ' FROM public.june1poly j1, public.june2poly j2'+\n",
    "                ' WHERE j1.id = j2.id AND ST_INTERSECTS(j1.geom, j2.geom) AND '+    \n",
    "                    '(ST_AREA(ST_INTERSECTION(j2.geom, j1.geom))/st_area(j2.geom)) < .6) ')\n",
    "connection.commit()"
   ]
  },
  {
   "cell_type": "markdown",
   "metadata": {},
   "source": [
    "Now we investigate if polygons are moving around.\n",
    "This done by the comparing their centroids and checking if they have moved over 75km.\n",
    "\n",
    "Remember these polygons are created through a convex hull of points, which cannot ensure the centroid will lie within the polygon itself. Which is why we are taking a sufficient;y large bounding value for the polygon."
   ]
  },
  {
   "cell_type": "code",
   "execution_count": 56,
   "metadata": {},
   "outputs": [
    {
     "data": {
      "text/plain": [
       "[(89461.6239573092, 16), (112342.357817654, 2), (91443.0278208261, 14)]"
      ]
     },
     "execution_count": 56,
     "metadata": {},
     "output_type": "execute_result"
    }
   ],
   "source": [
    "connection = psycopg2.connect(database=\"twitter_change\",user=\"postgres\", password=\"password\")\n",
    "cursor = connection.cursor()\n",
    "cursor.execute('SELECT ST_Distance_Spheroid(j1.centroid, j2.centroid,' +\n",
    "                ' \\'SPHEROID[\"WGS 84\",6378137,298.257223563]\\'), j1.id '+\n",
    "                'FROM public.june1poly j1, public.june2poly j2 '+\n",
    "                'WHERE j1.id = j2.id AND '+\n",
    "                ' ST_Distance_Spheroid(j1.centroid, j2.centroid, \\'SPHEROID[\"WGS 84\",6378137,298.257223563]\\') > 75000; ')\n",
    "centroid_distance = cursor.fetchall()\n",
    "connection.commit()\n",
    "centroid_distance"
   ]
  },
  {
   "cell_type": "markdown",
   "metadata": {},
   "source": [
    "We can see the shifing polygons are being detected. Now we create a table to store these."
   ]
  },
  {
   "cell_type": "code",
   "execution_count": 57,
   "metadata": {},
   "outputs": [],
   "source": [
    "connection = psycopg2.connect(database=\"twitter_change\",user=\"postgres\", password=\"password\")\n",
    "cursor = connection.cursor()\n",
    "cursor.execute('DROP TABLE IF EXISTS public.june12shift')\n",
    "cursor.execute('CREATE TABLE public.june12shift (gid SERIAL PRIMARY KEY, avgscor numeric, numtwts integer, id integer, batchnm integer, geodata character varying(80) COLLATE pg_catalog.\"default\", geom geometry(Polygon), centroid geometry(Point), shiftdist numeric)')\n",
    "connection.commit()"
   ]
  },
  {
   "cell_type": "markdown",
   "metadata": {},
   "source": [
    "Now we carefully insert the polygons into the table:"
   ]
  },
  {
   "cell_type": "code",
   "execution_count": 63,
   "metadata": {},
   "outputs": [],
   "source": [
    "connection = psycopg2.connect(database=\"twitter_change\",user=\"postgres\", password=\"password\")\n",
    "cursor = connection.cursor()\n",
    "cursor.execute('INSERT INTO public.june12shift (avgscor, numtwts, geodata, id, batchnm, geom, centroid, shiftdist)'+\n",
    "                '(SELECT j1.avgscor, j1.numtwts, j1.geodata, j1.id, j1.batchnm, j1.geom, j1.centroid, d.distval'+\n",
    "                ' FROM public.june1poly j1,'+\n",
    "                    ' (SELECT ST_Distance_Spheroid(j1.centroid, j2.centroid,' +\n",
    "                    ' \\'SPHEROID[\"WGS 84\",6378137,298.257223563]\\') as distval, j1.id  AS jid'+\n",
    "                    ' FROM public.june1poly j1, public.june2poly j2 '+\n",
    "                    ' WHERE j1.id = j2.id AND '+\n",
    "                    ' ST_Distance_Spheroid(j1.centroid, j2.centroid, \\'SPHEROID[\"WGS 84\",6378137,298.257223563]\\') > 75000) as d'+\n",
    "               ' WHERE j1.id = d.jid)')\n",
    "connection.commit()"
   ]
  },
  {
   "cell_type": "code",
   "execution_count": 6,
   "metadata": {},
   "outputs": [],
   "source": [
    "#Comparing all sequential days\n",
    "polygons =[]\n",
    "for val in range(1,8):\n",
    "    polygons.append('june'+str(val)+'poly')\n",
    "for val in range(6):\n",
    "    if val < 5:\n",
    "        change_shrink(polygons[val],polygons[val+1])\n",
    "        change_growth(polygons[val],polygons[val+1])\n",
    "        change_shift(polygons[val],polygons[val+1])"
   ]
  },
  {
   "cell_type": "code",
   "execution_count": null,
   "metadata": {},
   "outputs": [],
   "source": []
  }
 ],
 "metadata": {
  "kernelspec": {
   "display_name": "Python 3",
   "language": "python",
   "name": "python3"
  },
  "language_info": {
   "codemirror_mode": {
    "name": "ipython",
    "version": 3
   },
   "file_extension": ".py",
   "mimetype": "text/x-python",
   "name": "python",
   "nbconvert_exporter": "python",
   "pygments_lexer": "ipython3",
   "version": "3.7.0"
  }
 },
 "nbformat": 4,
 "nbformat_minor": 2
}
