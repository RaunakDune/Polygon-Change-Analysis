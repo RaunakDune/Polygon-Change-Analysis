{
 "cells": [
  {
   "cell_type": "code",
   "execution_count": 1,
   "metadata": {},
   "outputs": [],
   "source": [
    "from  osgeo import ogr, osr\n",
    "import psycopg2\n",
    "import shapely\n",
    "import shapely.wkt\n",
    "import geopandas as gpd\n",
    "%matplotlib inline"
   ]
  },
  {
   "cell_type": "code",
   "execution_count": 3,
   "metadata": {},
   "outputs": [],
   "source": [
    "connection = psycopg2.connect(database=\"drought_change\",user=\"postgres\", password=\"password\")\n",
    "cursor = connection.cursor()"
   ]
  },
  {
   "cell_type": "code",
   "execution_count": 4,
   "metadata": {},
   "outputs": [],
   "source": [
    "driver = ogr.GetDriverByName('ESRI Shapefile')\n",
    "shp = driver.Open(r'C:\\Users\\rsarbajna\\Documents\\Twitter Sentiment Analysis\\Drought Shapefiles\\2017\\nadm-201706\\nadm_d0.shp')"
   ]
  },
  {
   "cell_type": "code",
   "execution_count": 5,
   "metadata": {},
   "outputs": [
    {
     "name": "stdout",
     "output_type": "stream",
     "text": [
      "GEOGCS[\"WGS 84\",\n",
      "    DATUM[\"WGS_1984\",\n",
      "        SPHEROID[\"WGS 84\",6378137,298.257223563,\n",
      "            AUTHORITY[\"EPSG\",\"7030\"]],\n",
      "        AUTHORITY[\"EPSG\",\"6326\"]],\n",
      "    PRIMEM[\"Greenwich\",0,\n",
      "        AUTHORITY[\"EPSG\",\"8901\"]],\n",
      "    UNIT[\"degree\",0.0174532925199433,\n",
      "        AUTHORITY[\"EPSG\",\"9122\"]],\n",
      "    AUTHORITY[\"EPSG\",\"4326\"]]\n"
     ]
    }
   ],
   "source": [
    "# Get Projection from layer\n",
    "layer = shp.GetLayer()\n",
    "spatialRef = layer.GetSpatialRef()\n",
    "print (spatialRef)"
   ]
  },
  {
   "cell_type": "code",
   "execution_count": 6,
   "metadata": {},
   "outputs": [
    {
     "name": "stdout",
     "output_type": "stream",
     "text": [
      "Name  -  Type  Width  Precision\n",
      "FIPS_ADMIN - String 4 0\n",
      "GMI_ADMIN - String 7 0\n",
      "ADMIN_NAME - String 42 0\n",
      "FIPS_CNTRY - String 2 0\n",
      "GMI_CNTRY - String 3 0\n",
      "CNTRY_NAME - String 40 0\n",
      "POP_ADMIN - Integer 9 0\n",
      "TYPE_ENG - String 26 0\n",
      "TYPE_LOC - String 50 0\n",
      "SQKM - Real 16 2\n",
      "SQMI - Real 16 2\n",
      "COLOR_MAP - String 2 0\n"
     ]
    }
   ],
   "source": [
    "# Get Shapefile Fields and Types\n",
    "layerDefinition = layer.GetLayerDefn()\n",
    "\n",
    "print (\"Name,Type,Width,Precision\")\n",
    "for i in range(layerDefinition.GetFieldCount()):\n",
    "    fieldName =  layerDefinition.GetFieldDefn(i).GetName()\n",
    "    fieldTypeCode = layerDefinition.GetFieldDefn(i).GetType()\n",
    "    fieldType = layerDefinition.GetFieldDefn(i).GetFieldTypeName(fieldTypeCode)\n",
    "    fieldWidth = layerDefinition.GetFieldDefn(i).GetWidth()\n",
    "    GetPrecision = layerDefinition.GetFieldDefn(i).GetPrecision()\n",
    "    print (fieldName + \",\" + fieldType+ \",\" + str(fieldWidth) + \",\" + str(GetPrecision))"
   ]
  },
  {
   "cell_type": "code",
   "execution_count": null,
   "metadata": {},
   "outputs": [],
   "source": []
  }
 ],
 "metadata": {
  "kernelspec": {
   "display_name": "Python 3",
   "language": "python",
   "name": "python3"
  },
  "language_info": {
   "codemirror_mode": {
    "name": "ipython",
    "version": 3
   },
   "file_extension": ".py",
   "mimetype": "text/x-python",
   "name": "python",
   "nbconvert_exporter": "python",
   "pygments_lexer": "ipython3",
   "version": "3.7.0"
  }
 },
 "nbformat": 4,
 "nbformat_minor": 2
}
