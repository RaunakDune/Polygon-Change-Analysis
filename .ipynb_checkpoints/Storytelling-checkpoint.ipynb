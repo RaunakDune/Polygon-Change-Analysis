{
 "cells": [
  {
   "cell_type": "code",
   "execution_count": 1,
   "metadata": {},
   "outputs": [],
   "source": [
    "from  osgeo import ogr, osr\n",
    "import psycopg2\n",
    "import shapely\n",
    "import shapely.wkt\n",
    "import geopandas as gpd\n",
    "import math\n",
    "%matplotlib inline"
   ]
  },
  {
   "cell_type": "code",
   "execution_count": 2,
   "metadata": {},
   "outputs": [],
   "source": [
    "def interesting_alpha(tablename):\n",
    "    table = get_data(tablename)\n",
    "    sum = 0\n",
    "    alpha = {}\n",
    "    for val in table:\n",
    "        sum += val[9]\n",
    "    \n",
    "    for val in table:\n",
    "        alpha.update({val[0]:(val[9]/sum)})\n",
    "    return(alpha)"
   ]
  },
  {
   "cell_type": "code",
   "execution_count": 3,
   "metadata": {},
   "outputs": [],
   "source": [
    "def interesting_beta(tablename):\n",
    "    #use for growth/shrinks\n",
    "    table = get_data(tablename)\n",
    "    beta = {}\n",
    "    for val in table:\n",
    "        beta.update({val[0]:float(val[8])})\n",
    "    return (beta)"
   ]
  },
  {
   "cell_type": "code",
   "execution_count": 4,
   "metadata": {},
   "outputs": [],
   "source": [
    "def interesting_gamma(tablename):\n",
    "    #use for shifts\n",
    "    table = get_data(tablename)\n",
    "    \n",
    "    connection = psycopg2.connect(database=\"twitter_change\",user=\"postgres\", password=\"password\")\n",
    "    cursor = connection.cursor()\n",
    "    cursor.execute('SELECT ST_Distance_Sphere(geometry(a.bot), geometry(b.top))'\n",
    "                   'FROM '+\n",
    "                    ' (SELECT st_astext(st_makepoint(st_xmin(st_extent(j2s.geom)), st_ymin(st_extent(j2s.geom)))) AS bot FROM '+tablename+' j2s) a, '\n",
    "                    ' (SELECT st_astext(st_makepoint(st_xmax(st_extent(j2s.geom)), st_ymax(st_extent(j2s.geom)))) AS top FROM '+tablename+' j2s) b')\n",
    "    distance = cursor.fetchall()\n",
    "    connection.commit()\n",
    "    \n",
    "    gamma ={}\n",
    "    for val in table:\n",
    "        gamma.update({val[0]:int(val[8] >= (distance[0][0]/2))})\n",
    "        \n",
    "    return (gamma)"
   ]
  },
  {
   "cell_type": "code",
   "execution_count": 5,
   "metadata": {},
   "outputs": [],
   "source": [
    "def interesting_delta(tablename):\n",
    "    #Thinness ratio\n",
    "    table = get_data(tablename)\n",
    "    connection = psycopg2.connect(database=\"twitter_change\",user=\"postgres\", password=\"password\")\n",
    "    cursor = connection.cursor()\n",
    "    cursor.execute('SELECT ST_Perimeter(j2s.geom, true)'\n",
    "                   'FROM '+tablename+' j2s ')\n",
    "    perimeter = cursor.fetchall()\n",
    "    connection.commit()\n",
    "\n",
    "    thin_ratio = 0\n",
    "    delta = {}\n",
    "\n",
    "    for p, a in zip(perimeter, table):\n",
    "        thin_ratio = (4 * math.pi * a[9]) / (p[0] ** 2)\n",
    "        delta.update({a[0]:thin_ratio})\n",
    "\n",
    "    return (delta)"
   ]
  },
  {
   "cell_type": "code",
   "execution_count": 6,
   "metadata": {},
   "outputs": [],
   "source": [
    "def interesting_omega(alpha, beta, delta):\n",
    "    omega = {}\n",
    "\n",
    "    for val in range(1, (len(alpha)+1)):\n",
    "        omega.update({val: (0.3 * alpha[val]) + (0.4 * beta[val]) + (0.4 * delta[val])})\n",
    "\n",
    "    return (omega)"
   ]
  },
  {
   "cell_type": "code",
   "execution_count": 7,
   "metadata": {},
   "outputs": [],
   "source": [
    "def omegaToTable(omega, tablename):\n",
    "    connection = psycopg2.connect(database=\"twitter_change\",user=\"postgres\", password=\"password\")\n",
    "    cursor = connection.cursor()\n",
    "    cursor.execute('ALTER TABLE '+tablename+' ADD COLUMN IF NOT EXISTS interestingness numeric')\n",
    "    for elem in omega:\n",
    "        cursor.execute('UPDATE '+tablename+' SET interestingness= %s WHERE gid = %s',(omega[elem], elem))\n",
    "    connection.commit()\n",
    "    "
   ]
  },
  {
   "cell_type": "code",
   "execution_count": 8,
   "metadata": {},
   "outputs": [],
   "source": [
    "def addAreaCol(tablename):\n",
    "    connection = psycopg2.connect(database=\"twitter_change\",user=\"postgres\", password=\"password\")\n",
    "    cursor = connection.cursor()\n",
    "    cursor.execute('ALTER TABLE '+tablename+' ADD COLUMN IF NOT EXISTS area double precision')\n",
    "    cursor.execute('UPDATE '+tablename+' SET area=ROUND((ST_Area(geom::geography))::numeric,2)')\n",
    "    connection.commit()"
   ]
  },
  {
   "cell_type": "code",
   "execution_count": 9,
   "metadata": {},
   "outputs": [],
   "source": [
    "def get_data(tableName):\n",
    "    connection = psycopg2.connect(database=\"twitter_change\",user=\"postgres\", password=\"password\")\n",
    "    cursor = connection.cursor()\n",
    "    cursor.execute('SELECT j2s.* '+\n",
    "                'FROM '+tableName+' j2s ')\n",
    "    temp_table = cursor.fetchall()\n",
    "    connection.commit()\n",
    "    return (temp_table)"
   ]
  },
  {
   "cell_type": "code",
   "execution_count": 10,
   "metadata": {},
   "outputs": [],
   "source": [
    "#Testing for Interesting-ness parameters for the Change Parameters on June 3 and June 4\n",
    "#First, Shrink\n",
    "table = 'public.june3june4shrink'\n",
    "addAreaCol(table)\n",
    "a34 = interesting_alpha(table)\n",
    "b34 = interesting_beta(table)\n",
    "d34 = interesting_delta(table)\n",
    "omegaToTable(interesting_omega(a34, b34, d34), table)"
   ]
  },
  {
   "cell_type": "code",
   "execution_count": 11,
   "metadata": {},
   "outputs": [],
   "source": [
    "#Second, Growth\n",
    "table = 'public.june3june4growth'\n",
    "addAreaCol(table)\n",
    "a34 = interesting_alpha(table)\n",
    "b34 = interesting_beta(table)\n",
    "d34 = interesting_delta(table)\n",
    "omegaToTable(interesting_omega(a34, b34, d34), table)"
   ]
  },
  {
   "cell_type": "code",
   "execution_count": 12,
   "metadata": {},
   "outputs": [],
   "source": [
    "#Third, Shift\n",
    "table = 'public.june3june4shift'\n",
    "addAreaCol(table)\n",
    "a34 = interesting_alpha(table)\n",
    "c34 = interesting_gamma(table)\n",
    "d34 = interesting_delta(table)\n",
    "omegaToTable(interesting_omega(a34, c34, d34), table)"
   ]
  },
  {
   "cell_type": "code",
   "execution_count": 13,
   "metadata": {},
   "outputs": [],
   "source": [
    "#Now running this for all dates\n",
    "#Comparing all sequential days\n",
    "polygons =[]\n",
    "for val in range(1,7):\n",
    "    temp = 'public.june'+str(val)+'june'+str(val+1)\n",
    "    polygons.append([temp+'shrink',temp+'growth',temp+'shift'])\n",
    "\n",
    "for elem in polygons:\n",
    "    #Shrink\n",
    "    addAreaCol(elem[0])\n",
    "    a34 = interesting_alpha(elem[0])\n",
    "    b34 = interesting_beta(elem[0])\n",
    "    d34 = interesting_delta(elem[0])\n",
    "    omegaToTable(interesting_omega(a34, b34, d34), elem[0])\n",
    "    \n",
    "    #Growth\n",
    "    addAreaCol(elem[1])\n",
    "    a34 = interesting_alpha(elem[1])\n",
    "    b34 = interesting_beta(elem[1])\n",
    "    d34 = interesting_delta(elem[1])\n",
    "    omegaToTable(interesting_omega(a34, b34, d34), elem[1])\n",
    "    \n",
    "    #Shift\n",
    "    addAreaCol(elem[2])\n",
    "    a34 = interesting_alpha(elem[2])\n",
    "    c34 = interesting_gamma(elem[2])\n",
    "    d34 = interesting_delta(elem[2])\n",
    "    omegaToTable(interesting_omega(a34, c34, d34), elem[2])\n",
    "    "
   ]
  },
  {
   "cell_type": "code",
   "execution_count": 111,
   "metadata": {},
   "outputs": [],
   "source": [
    "connection = psycopg2.connect(database=\"twitter_change\",user=\"postgres\", password=\"password\")\n",
    "cursor = connection.cursor()\n",
    "cursor.execute('SELECT j2s.* '+\n",
    "                'FROM public.june12shrink j2s ')\n",
    "shrink_table = cursor.fetchall()\n",
    "connection.commit()"
   ]
  },
  {
   "cell_type": "code",
   "execution_count": 112,
   "metadata": {},
   "outputs": [
    {
     "name": "stdout",
     "output_type": "stream",
     "text": [
      "0.00192899379032392\n",
      "0.00407155921941685\n",
      "0.0317208550095566\n",
      "0.00750897043828223\n",
      "0.00762517440995081\n",
      "0.197109198755777\n",
      "0.0155506870186542\n"
     ]
    }
   ],
   "source": [
    "for val in shrink_table:\n",
    "    print(val[8])"
   ]
  },
  {
   "cell_type": "code",
   "execution_count": 74,
   "metadata": {},
   "outputs": [],
   "source": [
    "connection = psycopg2.connect(database=\"twitter_change\",user=\"postgres\", password=\"password\")\n",
    "cursor = connection.cursor()\n",
    "cursor.execute('SELECT st_asText(ST_Extent(j2s.geom))'+\n",
    "                'FROM public.june12shift j2s ')\n",
    "bounding_box = cursor.fetchall()\n",
    "connection.commit()"
   ]
  },
  {
   "cell_type": "code",
   "execution_count": 83,
   "metadata": {},
   "outputs": [
    {
     "name": "stdout",
     "output_type": "stream",
     "text": [
      "POLYGON((-78.97815059 42.00177517,-78.97815059 42.7230198,-76.53217853 42.7230198,-76.53217853 42.00177517,-78.97815059 42.00177517))\n"
     ]
    }
   ],
   "source": [
    "for val in bounding_box:\n",
    "    print(val[0])"
   ]
  },
  {
   "cell_type": "code",
   "execution_count": 84,
   "metadata": {},
   "outputs": [],
   "source": [
    "connection = psycopg2.connect(database=\"twitter_change\",user=\"postgres\", password=\"password\")\n",
    "cursor = connection.cursor()\n",
    "cursor.execute('select st_astext(st_makepoint(st_xmin(st_extent(j2s.geom)), st_ymin(st_extent(j2s.geom)))) '+\n",
    "                'FROM public.june12shift j2s ')\n",
    "bot_left = cursor.fetchall()\n",
    "connection.commit()"
   ]
  },
  {
   "cell_type": "code",
   "execution_count": 85,
   "metadata": {},
   "outputs": [
    {
     "name": "stdout",
     "output_type": "stream",
     "text": [
      "POINT(-78.97815059 42.00177517)\n"
     ]
    }
   ],
   "source": [
    "for val in bot_left:\n",
    "    print(val[0])"
   ]
  },
  {
   "cell_type": "code",
   "execution_count": 86,
   "metadata": {},
   "outputs": [],
   "source": [
    "connection = psycopg2.connect(database=\"twitter_change\",user=\"postgres\", password=\"password\")\n",
    "cursor = connection.cursor()\n",
    "cursor.execute('select st_astext(st_makepoint(st_xmax(st_extent(j2s.geom)), st_ymax(st_extent(j2s.geom)))) '+\n",
    "                'FROM public.june12shift j2s ')\n",
    "top_right = cursor.fetchall()\n",
    "connection.commit()"
   ]
  },
  {
   "cell_type": "code",
   "execution_count": 88,
   "metadata": {},
   "outputs": [
    {
     "name": "stdout",
     "output_type": "stream",
     "text": [
      "POINT(-76.53217853 42.7230198)\n"
     ]
    }
   ],
   "source": [
    "for val in top_right:\n",
    "    print(val[0])"
   ]
  },
  {
   "cell_type": "code",
   "execution_count": 94,
   "metadata": {},
   "outputs": [],
   "source": [
    "connection = psycopg2.connect(database=\"twitter_change\",user=\"postgres\", password=\"password\")\n",
    "cursor = connection.cursor()\n",
    "cursor.execute('SELECT ST_Distance_Sphere(geometry(a.bot), geometry(b.top))'\n",
    "                   'FROM '+\n",
    "                    ' (SELECT st_astext(st_makepoint(st_xmin(st_extent(j2s.geom)), st_ymin(st_extent(j2s.geom)))) AS bot FROM public.june12shift j2s) a, '\n",
    "                    ' (SELECT st_astext(st_makepoint(st_xmax(st_extent(j2s.geom)), st_ymax(st_extent(j2s.geom)))) AS top FROM public.june12shift j2s) b')\n",
    "distance = cursor.fetchall()\n",
    "connection.commit()"
   ]
  },
  {
   "cell_type": "code",
   "execution_count": 98,
   "metadata": {},
   "outputs": [
    {
     "name": "stdout",
     "output_type": "stream",
     "text": [
      "216366.16448114\n"
     ]
    }
   ],
   "source": [
    "print(distance[0][0])"
   ]
  },
  {
   "cell_type": "code",
   "execution_count": 99,
   "metadata": {},
   "outputs": [],
   "source": [
    "connection = psycopg2.connect(database=\"twitter_change\",user=\"postgres\", password=\"password\")\n",
    "cursor = connection.cursor()\n",
    "cursor.execute('SELECT j2s.* '+\n",
    "                'FROM public.june12shift j2s ')\n",
    "shift_table = cursor.fetchall()\n",
    "connection.commit()"
   ]
  },
  {
   "cell_type": "code",
   "execution_count": 103,
   "metadata": {},
   "outputs": [
    {
     "name": "stdout",
     "output_type": "stream",
     "text": [
      "{1: 0, 2: 1, 3: 0}\n"
     ]
    }
   ],
   "source": [
    "gamma ={}\n",
    "for val in shift_table:\n",
    "    gamma.update({val[0]:int(val[8] >= (distance[0][0]/2))})\n",
    "print(gamma)"
   ]
  },
  {
   "cell_type": "code",
   "execution_count": 76,
   "metadata": {},
   "outputs": [],
   "source": [
    "connection = psycopg2.connect(database=\"twitter_change\",user=\"postgres\", password=\"password\")\n",
    "cursor = connection.cursor()\n",
    "cursor.execute('ALTER TABLE public.june12shift ADD COLUMN IF NOT EXISTS area double precision')\n",
    "cursor.execute('UPDATE public.june12shift SET area=ROUND((ST_Area(geom::geography))::numeric,2)')\n",
    "cursor.execute('SELECT * FROM public.june12shift j2s ')\n",
    "shift_data = cursor.fetchall()\n",
    "connection.commit()"
   ]
  },
  {
   "cell_type": "code",
   "execution_count": 110,
   "metadata": {},
   "outputs": [
    {
     "name": "stdout",
     "output_type": "stream",
     "text": [
      "{1: 0.07249261563658106, 2: 0.09656910071873116, 3: 0.8309382836446878}\n"
     ]
    }
   ],
   "source": [
    "sum = 0\n",
    "alpha = {}\n",
    "for val in shift_table:\n",
    "    sum += val[9]\n",
    "    \n",
    "for val in shift_table:\n",
    "    alpha.update({val[0]:(val[9]/sum)})\n",
    "print(alpha)"
   ]
  },
  {
   "cell_type": "code",
   "execution_count": 117,
   "metadata": {},
   "outputs": [
    {
     "name": "stdout",
     "output_type": "stream",
     "text": [
      "{1: 0.00192899379032392, 2: 0.00407155921941685, 3: 0.0317208550095566, 4: 0.00750897043828223, 5: 0.00762517440995081, 6: 0.197109198755777, 7: 0.0155506870186542}\n"
     ]
    }
   ],
   "source": [
    "beta = {}\n",
    "for val in shrink_table:\n",
    "    beta.update({val[0]:float(val[8])})\n",
    "print (beta)"
   ]
  },
  {
   "cell_type": "code",
   "execution_count": 79,
   "metadata": {},
   "outputs": [],
   "source": [
    "connection = psycopg2.connect(database=\"twitter_change\",user=\"postgres\", password=\"password\")\n",
    "cursor = connection.cursor()\n",
    "cursor.execute('SELECT ' +\n",
    "                'ST_Length(ST_LongestLine(' +\n",
    "                    '(SELECT (ST_Extent(j2s.geom)) FROM public.june12shift j2s), ' +\n",
    "                    '(SELECT (ST_Extent(j2s.geom)) FROM public.june12shift j2s)))')\n",
    "longest_line = cursor.fetchall()"
   ]
  },
  {
   "cell_type": "code",
   "execution_count": 80,
   "metadata": {},
   "outputs": [
    {
     "name": "stdout",
     "output_type": "stream",
     "text": [
      "2.55009276980358\n"
     ]
    }
   ],
   "source": [
    "for val in longest_line:\n",
    "    print(val[0])"
   ]
  },
  {
   "cell_type": "code",
   "execution_count": 68,
   "metadata": {},
   "outputs": [],
   "source": [
    "connection = psycopg2.connect(database=\"twitter_change\",user=\"postgres\", password=\"password\")\n",
    "cursor = connection.cursor()\n",
    "cursor.execute('SELECT (ST_MaxDistance(' +\n",
    "                    '(SELECT (ST_Extent(j2s.geom)) FROM public.june12shift j2s), ' +\n",
    "                    '(SELECT (ST_Extent(j2s.geom)) FROM public.june12shift j2s)))')\n",
    "max_line = cursor.fetchall()\n",
    "connection.commit()"
   ]
  },
  {
   "cell_type": "code",
   "execution_count": 69,
   "metadata": {},
   "outputs": [
    {
     "name": "stdout",
     "output_type": "stream",
     "text": [
      "2.55009276980358\n"
     ]
    }
   ],
   "source": [
    "for val in max_line:\n",
    "    print(val[0])"
   ]
  },
  {
   "cell_type": "code",
   "execution_count": 121,
   "metadata": {},
   "outputs": [],
   "source": [
    "#Thinness ratio\n",
    "connection = psycopg2.connect(database=\"twitter_change\",user=\"postgres\", password=\"password\")\n",
    "cursor = connection.cursor()\n",
    "cursor.execute('SELECT ST_Perimeter(j2s.geom, true)'\n",
    "                   'FROM public.june12shift j2s ')\n",
    "perimeter = cursor.fetchall()\n",
    "connection.commit()"
   ]
  },
  {
   "cell_type": "code",
   "execution_count": 133,
   "metadata": {},
   "outputs": [
    {
     "name": "stdout",
     "output_type": "stream",
     "text": [
      "{1: 0.7083695135291909, 2: 0.7582329274298542, 3: 0.35376134899877115}\n"
     ]
    }
   ],
   "source": [
    "thin_ratio = 0\n",
    "delta = {}\n",
    "\n",
    "for p, a in zip(perimeter, shift_table):\n",
    "    thin_ratio = (4 * math.pi * a[9]) / (p[0] ** 2)\n",
    "    delta.update({a[0]:thin_ratio})\n",
    "\n",
    "print (delta)"
   ]
  },
  {
   "cell_type": "code",
   "execution_count": 140,
   "metadata": {},
   "outputs": [
    {
     "name": "stdout",
     "output_type": "stream",
     "text": [
      "{1: 0.022519382207103887, 2: 0.4305993539033861, 3: 0.261969827097229}\n"
     ]
    }
   ],
   "source": [
    "omega = {}\n",
    "\n",
    "for val in range(1, (len(shift_table)+1)):\n",
    "    #pass\n",
    "    omega.update({val: (0.3 * alpha[val]) + (0.4 * beta[val]) + (0.4 * gamma[val])})\n",
    "\n",
    "print (omega)\n"
   ]
  },
  {
   "cell_type": "code",
   "execution_count": 178,
   "metadata": {},
   "outputs": [],
   "source": [
    "connection = psycopg2.connect(database=\"twitter_change\",user=\"postgres\", password=\"password\")\n",
    "cursor = connection.cursor()\n",
    "cursor.execute('ALTER TABLE public.june12shrink ADD COLUMN IF NOT EXISTS area double precision')\n",
    "cursor.execute('UPDATE public.june12shrink SET area=ROUND((ST_Area(geom::geography))::numeric,2)')\n",
    "cursor.execute('SELECT * FROM public.june12shrink j2s ')\n",
    "shrink_table = cursor.fetchall()\n",
    "connection.commit()"
   ]
  },
  {
   "cell_type": "code",
   "execution_count": 179,
   "metadata": {},
   "outputs": [],
   "source": [
    "a = interesting_alpha(shrink_table)\n",
    "b = interesting_beta(shrink_table)\n",
    "d = interesting_delta(shrink_table, 'public.june12shrink')"
   ]
  },
  {
   "cell_type": "code",
   "execution_count": 180,
   "metadata": {},
   "outputs": [],
   "source": [
    "o = interesting_omega(a,b,d)"
   ]
  },
  {
   "cell_type": "code",
   "execution_count": 195,
   "metadata": {},
   "outputs": [],
   "source": [
    "connection = psycopg2.connect(database=\"twitter_change\",user=\"postgres\", password=\"password\")\n",
    "cursor = connection.cursor()\n",
    "cursor.execute('ALTER TABLE public.june12shrink ADD COLUMN IF NOT EXISTS interestingness numeric')\n",
    "for elem in o:\n",
    "    cursor.execute('UPDATE public.june12shrink SET interestingness= %s WHERE gid = %s',(o[elem], elem))\n",
    "connection.commit()"
   ]
  },
  {
   "cell_type": "code",
   "execution_count": 198,
   "metadata": {},
   "outputs": [
    {
     "name": "stdout",
     "output_type": "stream",
     "text": [
      "[(216366.16448114,)]\n"
     ]
    }
   ],
   "source": [
    "a_shift = interesting_alpha(shift_table)\n",
    "c_shift = interesting_gamma(shift_table, 'public.june12shift')\n",
    "d_shift = interesting_delta(shift_table, 'public.june12shift')\n",
    "o_shift = interesting_omega(a_shift,c_shift,d_shift)"
   ]
  },
  {
   "cell_type": "code",
   "execution_count": 199,
   "metadata": {},
   "outputs": [],
   "source": [
    "connection = psycopg2.connect(database=\"twitter_change\",user=\"postgres\", password=\"password\")\n",
    "cursor = connection.cursor()\n",
    "cursor.execute('ALTER TABLE public.june12shift ADD COLUMN IF NOT EXISTS interestingness numeric')\n",
    "for elem in o_shift:\n",
    "    cursor.execute('UPDATE public.june12shift SET interestingness= %s WHERE gid = %s',(o_shift[elem], elem))\n",
    "connection.commit()"
   ]
  },
  {
   "cell_type": "code",
   "execution_count": 200,
   "metadata": {},
   "outputs": [],
   "source": [
    "connection = psycopg2.connect(database=\"twitter_change\",user=\"postgres\", password=\"password\")\n",
    "cursor = connection.cursor()\n",
    "cursor.execute('ALTER TABLE public.june12growth ADD COLUMN IF NOT EXISTS area double precision')\n",
    "cursor.execute('UPDATE public.june12growth SET area=ROUND((ST_Area(geom::geography))::numeric,2)')\n",
    "cursor.execute('SELECT * FROM public.june12growth j2s ')\n",
    "growth_table = cursor.fetchall()\n",
    "connection.commit()"
   ]
  },
  {
   "cell_type": "code",
   "execution_count": 203,
   "metadata": {},
   "outputs": [],
   "source": [
    "a_growth = interesting_alpha(growth_table)\n",
    "b_growth = interesting_beta(growth_table)\n",
    "d_growth = interesting_delta(growth_table, 'public.june12growth')\n",
    "o_growth = interesting_omega(a_growth,b_growth,d_growth)"
   ]
  },
  {
   "cell_type": "code",
   "execution_count": 204,
   "metadata": {},
   "outputs": [],
   "source": [
    "connection = psycopg2.connect(database=\"twitter_change\",user=\"postgres\", password=\"password\")\n",
    "cursor = connection.cursor()\n",
    "cursor.execute('ALTER TABLE public.june12growth ADD COLUMN IF NOT EXISTS interestingness numeric')\n",
    "for elem in o_growth:\n",
    "    cursor.execute('UPDATE public.june12growth SET interestingness= %s WHERE gid = %s',(o_growth[elem], elem))\n",
    "connection.commit()"
   ]
  },
  {
   "cell_type": "code",
   "execution_count": null,
   "metadata": {},
   "outputs": [],
   "source": []
  }
 ],
 "metadata": {
  "kernelspec": {
   "display_name": "Python 3",
   "language": "python",
   "name": "python3"
  },
  "language_info": {
   "codemirror_mode": {
    "name": "ipython",
    "version": 3
   },
   "file_extension": ".py",
   "mimetype": "text/x-python",
   "name": "python",
   "nbconvert_exporter": "python",
   "pygments_lexer": "ipython3",
   "version": "3.7.0"
  }
 },
 "nbformat": 4,
 "nbformat_minor": 2
}
