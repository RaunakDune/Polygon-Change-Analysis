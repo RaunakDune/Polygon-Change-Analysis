{
 "cells": [
  {
   "cell_type": "code",
   "execution_count": 5,
   "metadata": {},
   "outputs": [],
   "source": [
    "import psycopg2\n",
    "import osgeo.ogr\n",
    "import shapely\n",
    "import shapely.wkt\n",
    "import geopandas as gpd\n",
    "%matplotlib inline"
   ]
  },
  {
   "cell_type": "code",
   "execution_count": 6,
   "metadata": {},
   "outputs": [],
   "source": [
    "connection = psycopg2.connect(database=\"twitter_random\",user=\"postgres\", password=\"multiwyn24\")\n",
    "cursor = connection.cursor()"
   ]
  },
  {
   "cell_type": "code",
   "execution_count": 7,
   "metadata": {},
   "outputs": [],
   "source": [
    "cursor.execute(\"DROP TABLE IF EXISTS blocks\")\n",
    "cursor.execute(\"CREATE TABLE blocks (id SERIAL PRIMARY KEY, adist BIGINT NOT NULL, outline GEOGRAPHY)\")"
   ]
  },
  {
   "cell_type": "code",
   "execution_count": 8,
   "metadata": {},
   "outputs": [],
   "source": [
    "cursor.execute(\"CREATE INDEX block_index ON blocks USING GIST(outline)\")\n",
    "connection.commit()"
   ]
  },
  {
   "cell_type": "code",
   "execution_count": 9,
   "metadata": {},
   "outputs": [],
   "source": [
    "shapefile = osgeo.ogr.Open(\"nyad_18c/nyad.shp\")\n",
    "layer = shapefile.GetLayer(0)\n",
    "\n",
    "#First delete the existing contents of this table in case we want to run the code multiple times.\n",
    "cursor.execute(\"DELETE FROM blocks\")\n",
    "\n",
    "for i in range(layer.GetFeatureCount()):\n",
    "    feature = layer.GetFeature(i)\n",
    "    adist = feature.GetField(\"AssemDist\")\n",
    "    #Get feature geometry\n",
    "    geometry = feature.GetGeometryRef()\n",
    "    #Convert geometry to WKT format\n",
    "    wkt = geometry.ExportToWkt()\n",
    "    #Insert data into database, converting WKT geometry to a PostGIS geography\n",
    "    cursor.execute(\"INSERT INTO blocks (adist, outline) VALUES ({}, ST_GeogFromText('{}'))\".format(adist, wkt))\n",
    "connection.commit()    "
   ]
  },
  {
   "cell_type": "code",
   "execution_count": 10,
   "metadata": {},
   "outputs": [],
   "source": [
    "try:\n",
    "    cursor.execute(\"ALTER TABLE blocks ADD COLUMN centroid GEOGRAPHY\")\n",
    "except psycopg2.ProgrammingError:\n",
    "    connection.rollback"
   ]
  },
  {
   "cell_type": "code",
   "execution_count": 11,
   "metadata": {},
   "outputs": [],
   "source": [
    "cursor.execute(\"UPDATE blocks SET centroid=ST_Centroid(outline::geometry)\")\n",
    "connection.commit()"
   ]
  },
  {
   "cell_type": "code",
   "execution_count": 12,
   "metadata": {
    "scrolled": true
   },
   "outputs": [
    {
     "data": {
      "text/plain": [
       "AssemDist\n",
       "32    POLYGON ((1051487.92779541 182175.5419921875, ...\n",
       "33    POLYGON ((1067219.031005859 210180.341003418, ...\n",
       "34    POLYGON ((1014191.468200684 218264.4290161133,...\n",
       "39    POLYGON ((1016450.79119873 206553.4584350586, ...\n",
       "47    POLYGON ((991748.3936157227 161084.9552001953,...\n",
       "Name: geometry, dtype: object"
      ]
     },
     "execution_count": 12,
     "metadata": {},
     "output_type": "execute_result"
    }
   ],
   "source": [
    "ny_neighs=gpd.read_file('nyad_18c/nyad.shp').set_index('AssemDist')['geometry']\n",
    "ny_neighs.head()"
   ]
  },
  {
   "cell_type": "code",
   "execution_count": 124,
   "metadata": {},
   "outputs": [],
   "source": [
    "dist32_wkt=shapely.wkt.dumps(ny_neighs[32])\n",
    "#print(dist32_wkt)"
   ]
  },
  {
   "cell_type": "code",
   "execution_count": 125,
   "metadata": {},
   "outputs": [
    {
     "ename": "InternalError",
     "evalue": "BOOM! Could not generate outside point!\n",
     "output_type": "error",
     "traceback": [
      "\u001b[1;31m---------------------------------------------------------------------------\u001b[0m",
      "\u001b[1;31mInternalError\u001b[0m                             Traceback (most recent call last)",
      "\u001b[1;32m<ipython-input-125-2b511c02648b>\u001b[0m in \u001b[0;36m<module>\u001b[1;34m()\u001b[0m\n\u001b[1;32m----> 1\u001b[1;33m \u001b[0mcursor\u001b[0m\u001b[1;33m.\u001b[0m\u001b[0mexecute\u001b[0m\u001b[1;33m(\u001b[0m\u001b[1;34m\"SELECT adist,ST_AsText(outline) FROM blocks WHERE ST_Intersects(ST_GeomFromText('{}'), centroid)\"\u001b[0m\u001b[1;33m.\u001b[0m\u001b[0mformat\u001b[0m\u001b[1;33m(\u001b[0m\u001b[0mdist32_wkt\u001b[0m\u001b[1;33m)\u001b[0m\u001b[1;33m)\u001b[0m\u001b[1;33m\u001b[0m\u001b[0m\n\u001b[0m",
      "\u001b[1;31mInternalError\u001b[0m: BOOM! Could not generate outside point!\n"
     ]
    }
   ],
   "source": [
    "cursor.execute(\"SELECT adist,ST_AsText(outline) FROM blocks WHERE ST_Intersects(ST_GeomFromText('{}'), centroid)\".format(dist32_wkt))"
   ]
  },
  {
   "cell_type": "code",
   "execution_count": 105,
   "metadata": {},
   "outputs": [
    {
     "ename": "ProgrammingError",
     "evalue": "no results to fetch",
     "output_type": "error",
     "traceback": [
      "\u001b[1;31m---------------------------------------------------------------------------\u001b[0m",
      "\u001b[1;31mProgrammingError\u001b[0m                          Traceback (most recent call last)",
      "\u001b[1;32m<ipython-input-105-d2f16db6cd72>\u001b[0m in \u001b[0;36m<module>\u001b[1;34m()\u001b[0m\n\u001b[0;32m      1\u001b[0m \u001b[0mrows_list\u001b[0m\u001b[1;33m=\u001b[0m\u001b[1;33m[\u001b[0m\u001b[1;33m]\u001b[0m\u001b[1;33m\u001b[0m\u001b[0m\n\u001b[1;32m----> 2\u001b[1;33m \u001b[1;32mfor\u001b[0m \u001b[0madist\u001b[0m\u001b[1;33m,\u001b[0m\u001b[0mgeo\u001b[0m \u001b[1;32min\u001b[0m \u001b[0mcursor\u001b[0m\u001b[1;33m:\u001b[0m\u001b[1;33m\u001b[0m\u001b[0m\n\u001b[0m\u001b[0;32m      3\u001b[0m     \u001b[0mdata\u001b[0m\u001b[1;33m=\u001b[0m\u001b[1;33m{\u001b[0m\u001b[1;34m'AssemDist'\u001b[0m\u001b[1;33m:\u001b[0m\u001b[0madist\u001b[0m\u001b[1;33m,\u001b[0m\u001b[1;34m'geometry'\u001b[0m\u001b[1;33m:\u001b[0m\u001b[0mshapely\u001b[0m\u001b[1;33m.\u001b[0m\u001b[0mwkt\u001b[0m\u001b[1;33m.\u001b[0m\u001b[0mloads\u001b[0m\u001b[1;33m(\u001b[0m\u001b[0mgeo\u001b[0m\u001b[1;33m)\u001b[0m\u001b[1;33m}\u001b[0m\u001b[1;33m\u001b[0m\u001b[0m\n\u001b[0;32m      4\u001b[0m     \u001b[0mrows_list\u001b[0m\u001b[1;33m.\u001b[0m\u001b[0mappend\u001b[0m\u001b[1;33m(\u001b[0m\u001b[0mdata\u001b[0m\u001b[1;33m)\u001b[0m\u001b[1;33m\u001b[0m\u001b[0m\n\u001b[0;32m      5\u001b[0m \u001b[0mprint\u001b[0m\u001b[1;33m(\u001b[0m\u001b[0mrows_list\u001b[0m\u001b[1;33m)\u001b[0m\u001b[1;33m\u001b[0m\u001b[0m\n",
      "\u001b[1;31mProgrammingError\u001b[0m: no results to fetch"
     ]
    }
   ],
   "source": [
    "rows_list=[]\n",
    "for adist,geo in cursor:\n",
    "    data={'AssemDist':adist,'geometry':shapely.wkt.loads(geo)}\n",
    "    rows_list.append(data)\n",
    "print(rows_list)\n",
    "gdf=gpd.GeoDataFrame(rows_list,crs='epsg:4326').set_index('AssemDist')\n",
    "gdf.head()"
   ]
  },
  {
   "cell_type": "code",
   "execution_count": null,
   "metadata": {},
   "outputs": [],
   "source": [
    "gdf.plot(column='AssemDist', scheme='QUANTILES', k=5, colormap='OrRd')"
   ]
  }
 ],
 "metadata": {
  "kernelspec": {
   "display_name": "Python 3",
   "language": "python",
   "name": "python3"
  },
  "language_info": {
   "codemirror_mode": {
    "name": "ipython",
    "version": 3
   },
   "file_extension": ".py",
   "mimetype": "text/x-python",
   "name": "python",
   "nbconvert_exporter": "python",
   "pygments_lexer": "ipython3",
   "version": "3.7.0"
  }
 },
 "nbformat": 4,
 "nbformat_minor": 2
}
